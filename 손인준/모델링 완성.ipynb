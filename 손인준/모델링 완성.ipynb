{
 "cells": [
  {
   "cell_type": "code",
   "execution_count": 14,
   "metadata": {},
   "outputs": [
    {
     "name": "stderr",
     "output_type": "stream",
     "text": [
      "b'Skipping line 2401: expected 11 fields, saw 21\\nSkipping line 2800: expected 11 fields, saw 21\\nSkipping line 5297: expected 11 fields, saw 12\\nSkipping line 5299: expected 11 fields, saw 12\\nSkipping line 5300: expected 11 fields, saw 12\\nSkipping line 5301: expected 11 fields, saw 12\\n'\n"
     ]
    }
   ],
   "source": [
    "import pandas as pd\n",
    "import matplotlib.pyplot as plt\n",
    "%matplotlib inline\n",
    "import seaborn as sns\n",
    "import re\n",
    "import time\n",
    "import warnings\n",
    "warnings.filterwarnings('ignore')\n",
    "import numpy as np\n",
    "from sklearn.model_selection import train_test_split\n",
    "from sklearn.model_selection import GridSearchCV\n",
    "from sklearn.linear_model import LinearRegression\n",
    "from sklearn.linear_model import Lasso\n",
    "from sklearn.preprocessing import PolynomialFeatures\n",
    "from sklearn.pipeline import make_pipeline  \n",
    "from scipy import stats\n",
    "\n",
    "from collections import Counter\n",
    "from nltk.tokenize import RegexpTokenizer\n",
    "from stop_words import get_stop_words\n",
    "import re\n",
    "import nltk\n",
    "from nltk.corpus import stopwords\n",
    "from nltk import sent_tokenize, word_tokenize\n",
    "from tensorflow.keras.preprocessing.text import Tokenizer\n",
    "from tensorflow.keras.preprocessing.sequence import pad_sequences\n",
    "\n",
    "\n",
    "youtube= pd.read_csv(r'C:\\Users\\injoo\\광주 인공지능 사관학교\\로테이션\\자연어처리&추천시스템 김준태\\미니프로젝트\\Dataset\\USvideos.csv', error_bad_lines=False)\n",
    "youtube = youtube.drop_duplicates(['video_id'], keep='first')\n",
    "\n",
    "\n"
   ]
  },
  {
   "cell_type": "code",
   "execution_count": 45,
   "metadata": {},
   "outputs": [],
   "source": [
    "only_title = youtube['title']\n",
    "title_data = only_title\n",
    "\n",
    "title_data = title_data.str.replace(\"[^\\w]\", \" \")\n",
    "#혹시나 공백이 있으면\n",
    "title_data= title_data.replace('', np.nan)\n",
    "\n",
    "#결측치 있으면 모두 제거\n",
    "title_data = title_data.dropna(how='any')\n",
    "\n",
    "youtube['views_label'] = np.log(youtube['views'] + 1)\n",
    "\n",
    "# youtube['views_label'] = youtube['views']\n",
    "\n",
    "# def label_func(x):\n",
    "#     if x>=17.69:\n",
    "#         return 1\n",
    "#     elif x>=12.50:\n",
    "#         return 2\n",
    "#     elif x>=11.33:\n",
    "#         return 3\n",
    "#     else:\n",
    "#         return 4\n",
    "\n",
    "def label_func(x):\n",
    "    if x>=12.5:\n",
    "        return 1\n",
    "    else:\n",
    "        return 0\n",
    "    \n",
    "youtube['views_label'] = youtube['views_label'].apply(lambda x: label_func(x))\n",
    "\n",
    "\n",
    "from nltk.corpus import stopwords \n",
    "from nltk.tokenize import word_tokenize \n",
    "\n",
    "stop_words = set(stopwords.words('english')) \n",
    "# stop_words = set(stop_words.words('english'))\n",
    "\n",
    "X_train = []\n",
    "for stc in train:\n",
    "    token = []\n",
    "    words = stc.split()\n",
    "    for word in words:\n",
    "        if word not in stop_words:\n",
    "            token.append(word)\n",
    "    X_train.append(token)\n",
    "\n",
    "X_test = []\n",
    "for stc in test:\n",
    "    token = []\n",
    "    words = stc.split()\n",
    "    for word in words:\n",
    "        if word not in stop_words:\n",
    "            token.append(word)\n",
    "    X_test.append(token)\n",
    "\n",
    "train , test, y_train, y_test = train_test_split(title_data, youtube['views_label'], test_size=0.2, shuffle=False)\n",
    "\n",
    "tokenizer = Tokenizer(7792)\n",
    "tokenizer.fit_on_texts(X_train)\n",
    "\n",
    "X_train = tokenizer.texts_to_sequences(train)\n",
    "X_test = tokenizer.texts_to_sequences(test)\n",
    "\n",
    "from tensorflow.keras.preprocessing.sequence import pad_sequences\n",
    "\n",
    "max_len = 14\n",
    "X_train = pad_sequences(X_train, maxlen=max_len)\n",
    "X_test = pad_sequences(X_test, maxlen=max_len)\n",
    "\n"
   ]
  },
  {
   "cell_type": "code",
   "execution_count": 46,
   "metadata": {},
   "outputs": [
    {
     "name": "stdout",
     "output_type": "stream",
     "text": [
      "Epoch 1/10\n",
      "60/60 [==============================] - 0s 4ms/step - loss: 1.1631 - accuracy: 0.5843\n",
      "Epoch 2/10\n",
      "60/60 [==============================] - 0s 4ms/step - loss: 0.6492 - accuracy: 0.6134\n",
      "Epoch 3/10\n",
      "60/60 [==============================] - 0s 4ms/step - loss: 0.5089 - accuracy: 0.8546\n",
      "Epoch 4/10\n",
      "60/60 [==============================] - 0s 4ms/step - loss: 0.3551 - accuracy: 0.9101\n",
      "Epoch 5/10\n",
      "60/60 [==============================] - 0s 4ms/step - loss: 0.2180 - accuracy: 0.9503\n",
      "Epoch 6/10\n",
      "60/60 [==============================] - 0s 4ms/step - loss: 0.1357 - accuracy: 0.9746\n",
      "Epoch 7/10\n",
      "60/60 [==============================] - 0s 4ms/step - loss: 0.1030 - accuracy: 0.9778\n",
      "Epoch 8/10\n",
      "60/60 [==============================] - 0s 4ms/step - loss: 0.0786 - accuracy: 0.9857\n",
      "Epoch 9/10\n",
      "60/60 [==============================] - 0s 4ms/step - loss: 0.0709 - accuracy: 0.9889\n",
      "Epoch 10/10\n",
      "60/60 [==============================] - 0s 4ms/step - loss: 0.0605 - accuracy: 0.9937\n"
     ]
    },
    {
     "data": {
      "text/plain": [
       "<tensorflow.python.keras.callbacks.History at 0x2b53eeba148>"
      ]
     },
     "execution_count": 46,
     "metadata": {},
     "output_type": "execute_result"
    }
   ],
   "source": [
    "from tensorflow.keras.models import Sequential\n",
    "from tensorflow.keras.layers import Dense, SimpleRNN, Embedding, LSTM\n",
    "model = Sequential()\n",
    "model.add(Embedding(5000, 32))\n",
    "model.add(LSTM(32))\n",
    "model.add(Dense(1, activation='relu'))\n",
    "\n",
    "model.compile(loss='binary_crossentropy', optimizer='adam', metrics= 'accuracy' )\n",
    "# model.compile(loss='categorical_crossentropy' ,optimizer='adam' ,metrics= 'accuracy' )\n",
    "model.fit(X_train, y_train, epochs=10)"
   ]
  },
  {
   "cell_type": "code",
   "execution_count": 48,
   "metadata": {},
   "outputs": [
    {
     "name": "stdout",
     "output_type": "stream",
     "text": [
      "iphone review\n",
      "[[0.72388583]]\n"
     ]
    }
   ],
   "source": [
    "sentence = input()\n",
    "# 토큰화\n",
    "token_stc = sentence.split()\n",
    "# 정수 인코딩\n",
    "encode_stc = tokenizer.texts_to_sequences([token_stc])\n",
    "# 패딩\n",
    "pad_stc = pad_sequences(encode_stc, maxlen = 14)\n",
    "\n",
    "score = model.predict(pad_stc)\n",
    "print(score)"
   ]
  },
  {
   "cell_type": "code",
   "execution_count": 51,
   "metadata": {},
   "outputs": [
    {
     "name": "stdout",
     "output_type": "stream",
     "text": [
      "my vlog \n",
      "[[0.37886557]]\n"
     ]
    }
   ],
   "source": [
    "sentence = input()\n",
    "# 토큰화\n",
    "token_stc = sentence.split()\n",
    "# 정수 인코딩\n",
    "encode_stc = tokenizer.texts_to_sequences([token_stc])\n",
    "# 패딩\n",
    "pad_stc = pad_sequences(encode_stc, maxlen = 14)\n",
    "\n",
    "score = model.predict(pad_stc)\n",
    "print(score)"
   ]
  },
  {
   "cell_type": "code",
   "execution_count": null,
   "metadata": {},
   "outputs": [],
   "source": []
  }
 ],
 "metadata": {
  "kernelspec": {
   "display_name": "Python 3",
   "language": "python",
   "name": "python3"
  },
  "language_info": {
   "codemirror_mode": {
    "name": "ipython",
    "version": 3
   },
   "file_extension": ".py",
   "mimetype": "text/x-python",
   "name": "python",
   "nbconvert_exporter": "python",
   "pygments_lexer": "ipython3",
   "version": "3.7.6"
  }
 },
 "nbformat": 4,
 "nbformat_minor": 4
}
