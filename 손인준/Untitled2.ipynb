{
 "cells": [
  {
   "cell_type": "code",
   "execution_count": 1,
   "metadata": {},
   "outputs": [
    {
     "ename": "SyntaxError",
     "evalue": "invalid syntax (<ipython-input-1-09dc92784cab>, line 11)",
     "output_type": "error",
     "traceback": [
      "\u001b[1;36m  File \u001b[1;32m\"<ipython-input-1-09dc92784cab>\"\u001b[1;36m, line \u001b[1;32m11\u001b[0m\n\u001b[1;33m    print(\"훈련 세트 점수: {:.2f}\".format(grid.best_score_(train, y_train)))\u001b[0m\n\u001b[1;37m        ^\u001b[0m\n\u001b[1;31mSyntaxError\u001b[0m\u001b[1;31m:\u001b[0m invalid syntax\n"
     ]
    }
   ],
   "source": [
    "from sklearn.model_selection import GridSearchCV\n",
    "from sklearn.ensemble import RandomForestRegressor\n",
    "nEstimator = [140,160,180,200,220]\n",
    "depth = [10,15,20,25,30]\n",
    "\n",
    "RF = RandomForestRegressor()\n",
    "hyperParam = [{'n_estimators':nEstimator,'max_depth': depth}]\n",
    "grid = GridSearchCV(RF,hyperParam,cv=5,verbose=1,scoring='r2',n_jobs=-1)\n",
    "grid.fit(train,y_train)\n",
    "print(\"최고 파라미터: {:.2f}:\".format(grid.best_params_)\n",
    "print(\"훈련 세트 점수: {:.2f}\".format(grid.best_score_(train, y_train)))\n",
    "print(\"테스트 세트 점수: {:.2f}\".format(grid.best_score_(test, y_test)))"
   ]
  },
  {
   "cell_type": "code",
   "execution_count": null,
   "metadata": {},
   "outputs": [],
   "source": [
    "model = RandomForestRegressor(n_estimators = 180,max_depth= 25)\n",
    "model.fit(train, y_train)\n",
    "print(\"훈련 세트 점수: {:.2f}\".format(model.score(train, y_train)))\n",
    "print(\"테스트 세트 점수: {:.2f}\".format(model.score(test, y_test)))"
   ]
  }
 ],
 "metadata": {
  "kernelspec": {
   "display_name": "Python 3",
   "language": "python",
   "name": "python3"
  },
  "language_info": {
   "codemirror_mode": {
    "name": "ipython",
    "version": 3
   },
   "file_extension": ".py",
   "mimetype": "text/x-python",
   "name": "python",
   "nbconvert_exporter": "python",
   "pygments_lexer": "ipython3",
   "version": "3.7.6"
  }
 },
 "nbformat": 4,
 "nbformat_minor": 4
}
