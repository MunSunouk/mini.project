{
 "cells": [
  {
   "cell_type": "code",
   "execution_count": 7,
   "metadata": {},
   "outputs": [
    {
     "name": "stderr",
     "output_type": "stream",
     "text": [
      "b'Skipping line 2401: expected 11 fields, saw 21\\nSkipping line 2800: expected 11 fields, saw 21\\nSkipping line 5297: expected 11 fields, saw 12\\nSkipping line 5299: expected 11 fields, saw 12\\nSkipping line 5300: expected 11 fields, saw 12\\nSkipping line 5301: expected 11 fields, saw 12\\n'\n"
     ]
    },
    {
     "ename": "KeyboardInterrupt",
     "evalue": "",
     "output_type": "error",
     "traceback": [
      "\u001b[1;31m---------------------------------------------------------------------------\u001b[0m",
      "\u001b[1;31mKeyboardInterrupt\u001b[0m                         Traceback (most recent call last)",
      "\u001b[1;32m<ipython-input-7-cc6e9c4de7e7>\u001b[0m in \u001b[0;36m<module>\u001b[1;34m\u001b[0m\n\u001b[0;32m     89\u001b[0m     \u001b[1;32mfor\u001b[0m \u001b[0mword\u001b[0m \u001b[1;32min\u001b[0m \u001b[0mtitle\u001b[0m\u001b[1;33m:\u001b[0m\u001b[1;33m\u001b[0m\u001b[1;33m\u001b[0m\u001b[0m\n\u001b[0;32m     90\u001b[0m         \u001b[1;32mif\u001b[0m \u001b[0mword\u001b[0m \u001b[1;32mnot\u001b[0m \u001b[1;32min\u001b[0m \u001b[0mstop_words\u001b[0m\u001b[1;33m:\u001b[0m\u001b[1;33m\u001b[0m\u001b[1;33m\u001b[0m\u001b[0m\n\u001b[1;32m---> 91\u001b[1;33m             \u001b[0mtmp_list\u001b[0m\u001b[1;33m.\u001b[0m\u001b[0mappend\u001b[0m\u001b[1;33m(\u001b[0m\u001b[0mword\u001b[0m\u001b[1;33m)\u001b[0m\u001b[1;33m\u001b[0m\u001b[1;33m\u001b[0m\u001b[0m\n\u001b[0m\u001b[0;32m     92\u001b[0m     \u001b[0mtest\u001b[0m\u001b[1;33m.\u001b[0m\u001b[0mappend\u001b[0m\u001b[1;33m(\u001b[0m\u001b[0mtmp_list\u001b[0m\u001b[1;33m)\u001b[0m\u001b[1;33m\u001b[0m\u001b[1;33m\u001b[0m\u001b[0m\n\u001b[0;32m     93\u001b[0m \u001b[1;33m\u001b[0m\u001b[0m\n",
      "\u001b[1;31mKeyboardInterrupt\u001b[0m: "
     ]
    }
   ],
   "source": [
    "\n",
    "\n",
    "from tensorflow.keras.preprocessing.sequence import pad_sequences\n",
    "\n",
    "max_len = 14\n",
    "X_train = pad_sequences(X_train, maxlen=max_len)\n",
    "X_test = pad_sequences(X_test, maxlen=max_len)\n",
    "\n",
    "from tensorflow.keras.models import Sequential\n",
    "from tensorflow.keras.layers import Dense, SimpleRNN, Embedding, LSTM\n",
    "model = Sequential()\n",
    "model.add(Embedding(5000, 32))\n",
    "model.add(LSTM(32))\n",
    "model.add(Dense(1, activation='relu'))\n",
    "\n",
    "model.compile(loss='categorical_crossentropy', optimizer='adam' ,metrics= 'accuracy' )\n",
    "\n",
    "model.fit(X_train, y_train, validation_data=(X_test, y_test), epochs=3)\n",
    "\n",
    "sentence = input()\n",
    "# 토큰화\n",
    "token_stc = sentence.split()\n",
    "# 정수 인코딩\n",
    "encode_stc = tokenizer.texts_to_sequences([token_stc])\n",
    "# 패딩\n",
    "pad_stc = pad_sequences(encode_stc, maxlen = 14)\n",
    "\n",
    "score = model.predict(pad_stc)\n",
    "print(score)"
   ]
  },
  {
   "cell_type": "code",
   "execution_count": 14,
   "metadata": {},
   "outputs": [],
   "source": [
    "import pandas as pd\n",
    "import matplotlib.pyplot as plt\n",
    "%matplotlib inline\n",
    "import seaborn as sns\n",
    "import re\n",
    "import time\n",
    "import warnings\n",
    "warnings.filterwarnings('ignore')\n",
    "import numpy as np\n",
    "from sklearn.model_selection import train_test_split\n",
    "from sklearn.model_selection import GridSearchCV\n",
    "from sklearn.linear_model import LinearRegression\n",
    "from sklearn.linear_model import Lasso\n",
    "from sklearn.preprocessing import PolynomialFeatures\n",
    "from sklearn.pipeline import make_pipeline  \n",
    "from scipy import stats\n",
    "\n",
    "from collections import Counter\n",
    "from nltk.tokenize import RegexpTokenizer\n",
    "from stop_words import get_stop_words\n",
    "import re\n",
    "import nltk\n",
    "from nltk.corpus import stopwords\n",
    "from nltk import sent_tokenize, word_tokenize\n",
    "from tensorflow.keras.preprocessing.text import Tokenizer\n",
    "from tensorflow.keras.preprocessing.sequence import pad_sequences"
   ]
  },
  {
   "cell_type": "code",
   "execution_count": 15,
   "metadata": {},
   "outputs": [
    {
     "name": "stderr",
     "output_type": "stream",
     "text": [
      "b'Skipping line 2401: expected 11 fields, saw 21\\nSkipping line 2800: expected 11 fields, saw 21\\nSkipping line 5297: expected 11 fields, saw 12\\nSkipping line 5299: expected 11 fields, saw 12\\nSkipping line 5300: expected 11 fields, saw 12\\nSkipping line 5301: expected 11 fields, saw 12\\n'\n"
     ]
    }
   ],
   "source": [
    "\n",
    "youtube= pd.read_csv(r'C:\\Users\\injoo\\광주 인공지능 사관학교\\로테이션\\자연어처리&추천시스템 김준태\\미니프로젝트\\Dataset\\USvideos.csv', error_bad_lines=False)\n",
    "youtube = youtube.drop_duplicates(['video_id'], keep='first')\n",
    "\n",
    "youtube['views'] = np.log(youtube['views'] + 1)\n",
    "\n",
    "views_log = youtube['views']\n",
    "views_log.quantile([0.25, 0.5, 0.75, 1])\n",
    "youtube['views_label'] = youtube['views']\n",
    "\n",
    "def label_func(x):\n",
    "    if x>=17.69:\n",
    "        return 1\n",
    "    elif x>=12.50:\n",
    "        return 2\n",
    "    elif x>=11.33:\n",
    "        return 3\n",
    "    else:\n",
    "        return 4\n",
    "\n",
    "youtube['views_label'] = youtube['views_label'].apply(lambda x: label_func(x))\n",
    "\n",
    "X_train , X_test, y_train, y_test = train_test_split(youtube['title'], youtube['views_label'], test_size=0.2, shuffle=False)"
   ]
  },
  {
   "cell_type": "code",
   "execution_count": 17,
   "metadata": {},
   "outputs": [],
   "source": [
    "title_data = youtube['title']"
   ]
  },
  {
   "cell_type": "code",
   "execution_count": 18,
   "metadata": {},
   "outputs": [],
   "source": [
    "train = []\n",
    "#숫자 제거가 덜 되었다. 하나하나 돌면서 숫자도 제거해주자. 단 단어랑 붙어 있는 숫자는 살려주자\n",
    "for title in X_train:\n",
    "    title = title.split(\" \")\n",
    "    word_without_number = []\n",
    "    for word in title:\n",
    "        output = re.sub(r'\\d+', '', word)\n",
    "        if output != '':\n",
    "            word_without_number.append(output.lower())\n",
    "    train.append(word_without_number)\n",
    "    \n",
    "test = []\n",
    "for title in X_test:\n",
    "    title = title.split(\" \")\n",
    "    word_without_number = []\n",
    "    for word in title:\n",
    "        output = re.sub(r'\\d+', '', word)\n",
    "        if output != '':\n",
    "            word_without_number.append(output.lower())\n",
    "    test.append(word_without_number)"
   ]
  },
  {
   "cell_type": "code",
   "execution_count": null,
   "metadata": {},
   "outputs": [],
   "source": [
    "from nltk.corpus import stopwords \n",
    "from nltk.tokenize import word_tokenize \n",
    "\n",
    "stop_words = set(stopwords.words('english')) \n",
    "X_train = []\n",
    "\n",
    "for title in train:\n",
    "    tmp_list = []\n",
    "    for word in title:\n",
    "        if word not in stop_words:\n",
    "            tmp_list.append(word)\n",
    "    X_train.append(tmp_list)\n",
    "\n",
    "X_test = []\n",
    "\n",
    "for title in test:\n",
    "    tmp_list = []\n",
    "    for word in title:\n",
    "        if word not in stop_words:\n",
    "            tmp_list.append(word)\n",
    "    test.append(tmp_list)\n",
    "\n",
    "tokenizer = Tokenizer(2155)\n",
    "tokenizer.fit_on_texts(X_train)\n",
    "\n",
    "X_train = tokenizer.texts_to_sequences(train)\n",
    "X_test = tokenizer.texts_to_sequences(test)"
   ]
  },
  {
   "cell_type": "code",
   "execution_count": null,
   "metadata": {},
   "outputs": [],
   "source": []
  }
 ],
 "metadata": {
  "kernelspec": {
   "display_name": "Python 3",
   "language": "python",
   "name": "python3"
  },
  "language_info": {
   "codemirror_mode": {
    "name": "ipython",
    "version": 3
   },
   "file_extension": ".py",
   "mimetype": "text/x-python",
   "name": "python",
   "nbconvert_exporter": "python",
   "pygments_lexer": "ipython3",
   "version": "3.7.6"
  }
 },
 "nbformat": 4,
 "nbformat_minor": 4
}
